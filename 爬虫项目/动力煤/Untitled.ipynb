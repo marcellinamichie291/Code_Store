{
 "cells": [
  {
   "cell_type": "code",
   "execution_count": 54,
   "id": "ba1db71e-aa48-4625-b24f-b953ddd7905a",
   "metadata": {},
   "outputs": [
    {
     "data": {
      "text/plain": [
       "['http://sc.100ppi.com/kx/list---1.html',\n",
       " 'http://sc.100ppi.com/kx/list---2.html',\n",
       " 'http://sc.100ppi.com/kx/list---3.html',\n",
       " 'http://sc.100ppi.com/kx/list---4.html',\n",
       " 'http://sc.100ppi.com/kx/list---5.html']"
      ]
     },
     "execution_count": 54,
     "metadata": {},
     "output_type": "execute_result"
    }
   ],
   "source": [
    "from bs4 import BeautifulSoup\n",
    "import requests\n",
    "num = 5\n",
    "# 如果是网页的话这种方式获取,这里做范例用本地文件来读取\n",
    "url = r'http://sc.100ppi.com/kx/list---'\n",
    "url_list = [url + str(i) + '.html' for i in range(1,num+1)]\n",
    "url_list"
   ]
  },
  {
   "cell_type": "code",
   "execution_count": 28,
   "id": "5368b7bb-9cfa-418a-bb83-c35ddfdeae90",
   "metadata": {},
   "outputs": [],
   "source": [
    "r = requests.get(url)  \n",
    "html = r.text\n",
    "# 解析\n",
    "soup = BeautifulSoup(html,\"html.parser\")"
   ]
  },
  {
   "cell_type": "code",
   "execution_count": 32,
   "id": "83fed6d5-4e94-4c72-9c66-cb8a40777fda",
   "metadata": {},
   "outputs": [
    {
     "data": {
      "text/plain": [
       "[<div class=\"pr-news-tit\">[<a class=\"blue\" href=\"/kx/\">动力煤</a>]9月20日动力煤为1407.50 <span>2021-09-20 16:38:50</span></div>,\n",
       " <div class=\"pr-news-tit\">[<a class=\"blue\" href=\"/kx/\">动力煤</a>]9月17日动力煤为1407.50 <span>2021-09-17 16:38:49</span></div>,\n",
       " <div class=\"pr-news-tit\">[<a class=\"blue\" href=\"/kx/\">动力煤</a>]9月16日动力煤为1407.50 <span>2021-09-16 16:38:50</span></div>,\n",
       " <div class=\"pr-news-tit\">[<a class=\"blue\" href=\"/kx/\">动力煤</a>]9月15日动力煤为1325.00 <span>2021-09-15 16:38:50</span></div>,\n",
       " <div class=\"pr-news-tit\">[<a class=\"blue\" href=\"/kx/\">动力煤</a>]9月14日动力煤为1222.50 <span>2021-09-14 16:38:50</span></div>,\n",
       " <div class=\"pr-news-tit\">[<a class=\"blue\" href=\"/kx/\">动力煤</a>]9月13日动力煤为1220.00 <span>2021-09-13 16:38:53</span></div>,\n",
       " <div class=\"pr-news-tit\">[<a class=\"blue\" href=\"/kx/\">动力煤</a>]9月10日动力煤为1205.00 <span>2021-09-10 16:39:08</span></div>,\n",
       " <div class=\"pr-news-tit\">[<a class=\"blue\" href=\"/kx/\">动力煤</a>]9月9日动力煤为1190.00 <span>2021-09-09 16:39:09</span></div>,\n",
       " <div class=\"pr-news-tit\">[<a class=\"blue\" href=\"/kx/\">动力煤</a>]9月8日动力煤为1175.00 <span>2021-09-08 16:38:48</span></div>,\n",
       " <div class=\"pr-news-tit\">[<a class=\"blue\" href=\"/kx/\">动力煤</a>]9月7日动力煤为1175.00 <span>2021-09-07 16:38:45</span></div>,\n",
       " <div class=\"pr-news-tit\">[<a class=\"blue\" href=\"/kx/\">动力煤</a>]9月6日动力煤为1175.00 <span>2021-09-06 16:38:50</span></div>,\n",
       " <div class=\"pr-news-tit\">[<a class=\"blue\" href=\"/kx/\">动力煤</a>]9月3日动力煤为1157.50 <span>2021-09-03 16:38:59</span></div>,\n",
       " <div class=\"pr-news-tit\">[<a class=\"blue\" href=\"/kx/\">动力煤</a>]9月2日动力煤为1150.00 <span>2021-09-02 16:38:52</span></div>,\n",
       " <div class=\"pr-news-tit\">[<a class=\"blue\" href=\"/kx/\">动力煤</a>]9月1日动力煤为1127.50 <span>2021-09-01 16:38:55</span></div>,\n",
       " <div class=\"pr-news-tit\">[<a class=\"blue\" href=\"/kx/\">动力煤</a>]8月31日动力煤为1120.00 <span>2021-08-31 16:38:55</span></div>]"
      ]
     },
     "execution_count": 32,
     "metadata": {},
     "output_type": "execute_result"
    }
   ],
   "source": [
    "div2 = soup.find_all('div',class_=\"pr-news-tit\")\n",
    "div2"
   ]
  },
  {
   "cell_type": "code",
   "execution_count": 50,
   "id": "263a2922-2b5a-49b3-8b02-f8f5ad3c7eaa",
   "metadata": {},
   "outputs": [
    {
     "name": "stdout",
     "output_type": "stream",
     "text": [
      "1407.50 2021-09-20\n",
      "1407.50 2021-09-17\n",
      "1407.50 2021-09-16\n",
      "1325.00 2021-09-15\n",
      "1222.50 2021-09-14\n",
      "1220.00 2021-09-13\n",
      "1205.00 2021-09-10\n",
      "1190.00 2021-09-09\n",
      "1175.00 2021-09-08\n",
      "1175.00 2021-09-07\n",
      "1175.00 2021-09-06\n",
      "1157.50 2021-09-03\n",
      "1150.00 2021-09-02\n",
      "1127.50 2021-09-01\n",
      "1120.00 2021-08-31\n"
     ]
    }
   ],
   "source": [
    "for i in div2:\n",
    "    price = i.text.split()[0][-7:]\n",
    "    date = i.text.split()[1]\n",
    "    print(price,date)"
   ]
  },
  {
   "cell_type": "code",
   "execution_count": 49,
   "id": "676fc4c2-bd84-4fd9-a03b-982c24bb08a6",
   "metadata": {},
   "outputs": [
    {
     "data": {
      "text/plain": [
       "'1407.50'"
      ]
     },
     "execution_count": 49,
     "metadata": {},
     "output_type": "execute_result"
    }
   ],
   "source": []
  }
 ],
 "metadata": {
  "kernelspec": {
   "display_name": "Python 3 (ipykernel)",
   "language": "python",
   "name": "python3"
  },
  "language_info": {
   "codemirror_mode": {
    "name": "ipython",
    "version": 3
   },
   "file_extension": ".py",
   "mimetype": "text/x-python",
   "name": "python",
   "nbconvert_exporter": "python",
   "pygments_lexer": "ipython3",
   "version": "3.8.8"
  }
 },
 "nbformat": 4,
 "nbformat_minor": 5
}
